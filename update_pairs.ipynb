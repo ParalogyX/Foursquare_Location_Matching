{
 "cells": [
  {
   "cell_type": "code",
   "execution_count": 1,
   "metadata": {},
   "outputs": [],
   "source": [
    "# Flag to force to reload dataset\n",
    "RELOAD = False"
   ]
  },
  {
   "cell_type": "code",
   "execution_count": 2,
   "metadata": {},
   "outputs": [
    {
     "name": "stdout",
     "output_type": "stream",
     "text": [
      "foursquare-location-matching.zip: Skipping, found more recently modified local copy (use --force to force download)\n"
     ]
    }
   ],
   "source": [
    "import os\n",
    "\n",
    "# import Kaggle API to load dataset\n",
    "import kaggle\n",
    "from kaggle.api.kaggle_api_extended import KaggleApi\n",
    "\n",
    "# initialize Kaggle API\n",
    "api = KaggleApi()\n",
    "api.authenticate()\n",
    "\n",
    "# download dataset from Kaggle to data folder\n",
    "data_path = 'data'\n",
    "api.competition_download_files('foursquare-location-matching', data_path, force=RELOAD, quiet=False)\n",
    "# save filename: !ATTENTION! : it may not be wroking if many files are in folders\n",
    "# then just name it manually \n",
    "dataset_file_name = os.listdir(data_path)[0]"
   ]
  },
  {
   "cell_type": "code",
   "execution_count": 3,
   "metadata": {},
   "outputs": [],
   "source": [
    "# import libraries to work with paths and to read zipped file, as was downloaded from Kaggle\n",
    "from zipfile import ZipFile\n",
    "# import pandas for EDA\n",
    "import pandas as pd\n",
    "\n",
    "# Read train dataset (train.csv) to pandas DataFrame named df: it will be used for analysis\n",
    "df = pd.read_csv(ZipFile(os.path.join(data_path, dataset_file_name)).open('train.csv'))\n"
   ]
  },
  {
   "cell_type": "code",
   "execution_count": 4,
   "metadata": {},
   "outputs": [
    {
     "name": "stdout",
     "output_type": "stream",
     "text": [
      "Shape of df: (1138812, 13)\n"
     ]
    }
   ],
   "source": [
    "# Check, that all dataframes are loaded and have correct shapes\n",
    "print(f'Shape of df: {str(df.shape)}')"
   ]
  },
  {
   "cell_type": "code",
   "execution_count": 5,
   "metadata": {},
   "outputs": [],
   "source": [
    "# Sample 10 000 records, it should give 100 000 000 records\n",
    "# Sample 1 000 records, it should give 1 000 000 records\n",
    "# 100 samples = 25 seconds\n",
    "# 500 samples = 100 minutes\n",
    "# numbers above are for iteration\n",
    "# Bellow for merging\n",
    "# 100 samples = < 1 second\n",
    "# 500 samples = < 1 second\n",
    "# 1000 samples = 1.5 seconds + 15 seconds to save\n",
    "# 10 000 samples = 30 seconds product + MemoryError: Unable to allocate 17.9 GiB for an array with shape (24, 100000000) and data type object after 5 minutes\n",
    "# 5000 samples = 10 seconds product + 1m45s merging + 6 minutes to save (7 Gb file)\n",
    "# 7500 samples = 10 seconds product + 8m merging + 15 minutes to save (16 Gb file)\n",
    "df_sample = df.sample(7500, random_state=42)"
   ]
  },
  {
   "cell_type": "code",
   "execution_count": 6,
   "metadata": {},
   "outputs": [],
   "source": [
    "from itertools import product\n",
    "\n",
    "combo_df = pd.DataFrame(data=list(product(df_sample['id'], df_sample['id'])), columns=['id_1','id_2'])\n",
    "#list(product(df_sample['id'], df_sample['id']))"
   ]
  },
  {
   "cell_type": "code",
   "execution_count": 7,
   "metadata": {},
   "outputs": [
    {
     "data": {
      "text/plain": [
       "(56250000, 2)"
      ]
     },
     "execution_count": 7,
     "metadata": {},
     "output_type": "execute_result"
    }
   ],
   "source": [
    "combo_df.shape"
   ]
  },
  {
   "cell_type": "code",
   "execution_count": 8,
   "metadata": {},
   "outputs": [],
   "source": [
    "merged_df = combo_df.merge(df_sample, how='inner', left_on='id_1', right_on='id')\n",
    "df_pairs_custom = merged_df.merge(df_sample, how='inner', left_on='id_2', right_on='id')\n",
    "df_pairs_custom.drop(['id_1', 'id_2'], axis=1, inplace=True)\n",
    "df_pairs_custom['match'] = df_pairs_custom['point_of_interest_x'] == df_pairs_custom['point_of_interest_y']\n",
    "df_pairs_custom.drop(['point_of_interest_x', 'point_of_interest_y'], axis=1, inplace=True)\n",
    "df_pairs_custom.columns=['id_1', 'name_1', 'latitude_1', 'longitude_1', 'address_1', 'city_1', 'state_1', 'zip_1', 'country_1', 'url_1', 'phone_1', 'categories_1',\n",
    "                                'id_2', 'name_2', 'latitude_2', 'longitude_2', 'address_2', 'city_2', 'state_2', 'zip_2', 'country_2', 'url_2', 'phone_2', 'categories_2', 'match']"
   ]
  },
  {
   "cell_type": "code",
   "execution_count": 9,
   "metadata": {},
   "outputs": [],
   "source": [
    "# save to csv after ~60 minutes only 144092 records are done (out of 1000000)\n",
    "df_pairs_custom.to_csv('.\\\\data\\\\pairs_custom.csv', index=False)"
   ]
  },
  {
   "cell_type": "code",
   "execution_count": 10,
   "metadata": {},
   "outputs": [
    {
     "data": {
      "text/html": [
       "<div>\n",
       "<style scoped>\n",
       "    .dataframe tbody tr th:only-of-type {\n",
       "        vertical-align: middle;\n",
       "    }\n",
       "\n",
       "    .dataframe tbody tr th {\n",
       "        vertical-align: top;\n",
       "    }\n",
       "\n",
       "    .dataframe thead th {\n",
       "        text-align: right;\n",
       "    }\n",
       "</style>\n",
       "<table border=\"1\" class=\"dataframe\">\n",
       "  <thead>\n",
       "    <tr style=\"text-align: right;\">\n",
       "      <th></th>\n",
       "      <th>id_1</th>\n",
       "      <th>name_1</th>\n",
       "      <th>latitude_1</th>\n",
       "      <th>longitude_1</th>\n",
       "      <th>address_1</th>\n",
       "      <th>city_1</th>\n",
       "      <th>state_1</th>\n",
       "      <th>zip_1</th>\n",
       "      <th>country_1</th>\n",
       "      <th>url_1</th>\n",
       "      <th>phone_1</th>\n",
       "      <th>categories_1</th>\n",
       "      <th>id_2</th>\n",
       "      <th>name_2</th>\n",
       "      <th>latitude_2</th>\n",
       "      <th>longitude_2</th>\n",
       "      <th>address_2</th>\n",
       "      <th>city_2</th>\n",
       "      <th>state_2</th>\n",
       "      <th>zip_2</th>\n",
       "      <th>country_2</th>\n",
       "      <th>url_2</th>\n",
       "      <th>phone_2</th>\n",
       "      <th>categories_2</th>\n",
       "      <th>match</th>\n",
       "    </tr>\n",
       "  </thead>\n",
       "  <tbody>\n",
       "    <tr>\n",
       "      <th>0</th>\n",
       "      <td>E_9c455c75918751</td>\n",
       "      <td>Manjabal 2</td>\n",
       "      <td>-6.712090</td>\n",
       "      <td>108.561016</td>\n",
       "      <td>Jalan Karanggetas</td>\n",
       "      <td>Cirebon</td>\n",
       "      <td>Jawa Barat</td>\n",
       "      <td>NaN</td>\n",
       "      <td>ID</td>\n",
       "      <td>NaN</td>\n",
       "      <td>NaN</td>\n",
       "      <td>Indonesian Restaurants</td>\n",
       "      <td>E_9c455c75918751</td>\n",
       "      <td>Manjabal 2</td>\n",
       "      <td>-6.71209</td>\n",
       "      <td>108.561016</td>\n",
       "      <td>Jalan Karanggetas</td>\n",
       "      <td>Cirebon</td>\n",
       "      <td>Jawa Barat</td>\n",
       "      <td>NaN</td>\n",
       "      <td>ID</td>\n",
       "      <td>NaN</td>\n",
       "      <td>NaN</td>\n",
       "      <td>Indonesian Restaurants</td>\n",
       "      <td>True</td>\n",
       "    </tr>\n",
       "    <tr>\n",
       "      <th>1</th>\n",
       "      <td>E_f96f973047a099</td>\n",
       "      <td>Rüstem Paşa (Ulu) Camii</td>\n",
       "      <td>40.359018</td>\n",
       "      <td>30.012008</td>\n",
       "      <td>Camikebir Mh. Sakarya Cd.</td>\n",
       "      <td>Osmaneli</td>\n",
       "      <td>Bilecik</td>\n",
       "      <td>NaN</td>\n",
       "      <td>TR</td>\n",
       "      <td>NaN</td>\n",
       "      <td>NaN</td>\n",
       "      <td>Mosques, Historic Sites</td>\n",
       "      <td>E_9c455c75918751</td>\n",
       "      <td>Manjabal 2</td>\n",
       "      <td>-6.71209</td>\n",
       "      <td>108.561016</td>\n",
       "      <td>Jalan Karanggetas</td>\n",
       "      <td>Cirebon</td>\n",
       "      <td>Jawa Barat</td>\n",
       "      <td>NaN</td>\n",
       "      <td>ID</td>\n",
       "      <td>NaN</td>\n",
       "      <td>NaN</td>\n",
       "      <td>Indonesian Restaurants</td>\n",
       "      <td>False</td>\n",
       "    </tr>\n",
       "    <tr>\n",
       "      <th>2</th>\n",
       "      <td>E_b16dafc319e90a</td>\n",
       "      <td>Starbucks</td>\n",
       "      <td>27.870459</td>\n",
       "      <td>-82.761560</td>\n",
       "      <td>10809 Starkey Rd</td>\n",
       "      <td>Largo</td>\n",
       "      <td>FL</td>\n",
       "      <td>33777</td>\n",
       "      <td>US</td>\n",
       "      <td>http://www.starbucks.com/store/1018298</td>\n",
       "      <td>(727) 392-3435</td>\n",
       "      <td>Coffee Shops</td>\n",
       "      <td>E_9c455c75918751</td>\n",
       "      <td>Manjabal 2</td>\n",
       "      <td>-6.71209</td>\n",
       "      <td>108.561016</td>\n",
       "      <td>Jalan Karanggetas</td>\n",
       "      <td>Cirebon</td>\n",
       "      <td>Jawa Barat</td>\n",
       "      <td>NaN</td>\n",
       "      <td>ID</td>\n",
       "      <td>NaN</td>\n",
       "      <td>NaN</td>\n",
       "      <td>Indonesian Restaurants</td>\n",
       "      <td>False</td>\n",
       "    </tr>\n",
       "    <tr>\n",
       "      <th>3</th>\n",
       "      <td>E_0be920c4d49631</td>\n",
       "      <td>Refter Sint Tarcisiusinstituut</td>\n",
       "      <td>50.832716</td>\n",
       "      <td>5.102211</td>\n",
       "      <td>NaN</td>\n",
       "      <td>NaN</td>\n",
       "      <td>NaN</td>\n",
       "      <td>NaN</td>\n",
       "      <td>BE</td>\n",
       "      <td>NaN</td>\n",
       "      <td>NaN</td>\n",
       "      <td>High Schools, Cafeterias</td>\n",
       "      <td>E_9c455c75918751</td>\n",
       "      <td>Manjabal 2</td>\n",
       "      <td>-6.71209</td>\n",
       "      <td>108.561016</td>\n",
       "      <td>Jalan Karanggetas</td>\n",
       "      <td>Cirebon</td>\n",
       "      <td>Jawa Barat</td>\n",
       "      <td>NaN</td>\n",
       "      <td>ID</td>\n",
       "      <td>NaN</td>\n",
       "      <td>NaN</td>\n",
       "      <td>Indonesian Restaurants</td>\n",
       "      <td>False</td>\n",
       "    </tr>\n",
       "    <tr>\n",
       "      <th>4</th>\n",
       "      <td>E_10d09c32c73bb3</td>\n",
       "      <td>Wetherspoon Express</td>\n",
       "      <td>51.890014</td>\n",
       "      <td>0.262341</td>\n",
       "      <td>Satellite 2, near Gate 31</td>\n",
       "      <td>Stansted</td>\n",
       "      <td>Essex</td>\n",
       "      <td>CM24 1QW</td>\n",
       "      <td>GB</td>\n",
       "      <td>http://www.jdwetherspoon.co.uk</td>\n",
       "      <td>1279669040</td>\n",
       "      <td>Pubs</td>\n",
       "      <td>E_9c455c75918751</td>\n",
       "      <td>Manjabal 2</td>\n",
       "      <td>-6.71209</td>\n",
       "      <td>108.561016</td>\n",
       "      <td>Jalan Karanggetas</td>\n",
       "      <td>Cirebon</td>\n",
       "      <td>Jawa Barat</td>\n",
       "      <td>NaN</td>\n",
       "      <td>ID</td>\n",
       "      <td>NaN</td>\n",
       "      <td>NaN</td>\n",
       "      <td>Indonesian Restaurants</td>\n",
       "      <td>False</td>\n",
       "    </tr>\n",
       "  </tbody>\n",
       "</table>\n",
       "</div>"
      ],
      "text/plain": [
       "               id_1                          name_1  latitude_1  longitude_1  \\\n",
       "0  E_9c455c75918751                      Manjabal 2   -6.712090   108.561016   \n",
       "1  E_f96f973047a099         Rüstem Paşa (Ulu) Camii   40.359018    30.012008   \n",
       "2  E_b16dafc319e90a                       Starbucks   27.870459   -82.761560   \n",
       "3  E_0be920c4d49631  Refter Sint Tarcisiusinstituut   50.832716     5.102211   \n",
       "4  E_10d09c32c73bb3             Wetherspoon Express   51.890014     0.262341   \n",
       "\n",
       "                   address_1    city_1     state_1     zip_1 country_1  \\\n",
       "0          Jalan Karanggetas   Cirebon  Jawa Barat       NaN        ID   \n",
       "1  Camikebir Mh. Sakarya Cd.  Osmaneli     Bilecik       NaN        TR   \n",
       "2           10809 Starkey Rd     Largo          FL     33777        US   \n",
       "3                        NaN       NaN         NaN       NaN        BE   \n",
       "4  Satellite 2, near Gate 31  Stansted       Essex  CM24 1QW        GB   \n",
       "\n",
       "                                    url_1         phone_1  \\\n",
       "0                                     NaN             NaN   \n",
       "1                                     NaN             NaN   \n",
       "2  http://www.starbucks.com/store/1018298  (727) 392-3435   \n",
       "3                                     NaN             NaN   \n",
       "4          http://www.jdwetherspoon.co.uk      1279669040   \n",
       "\n",
       "               categories_1              id_2      name_2  latitude_2  \\\n",
       "0    Indonesian Restaurants  E_9c455c75918751  Manjabal 2    -6.71209   \n",
       "1   Mosques, Historic Sites  E_9c455c75918751  Manjabal 2    -6.71209   \n",
       "2              Coffee Shops  E_9c455c75918751  Manjabal 2    -6.71209   \n",
       "3  High Schools, Cafeterias  E_9c455c75918751  Manjabal 2    -6.71209   \n",
       "4                      Pubs  E_9c455c75918751  Manjabal 2    -6.71209   \n",
       "\n",
       "   longitude_2          address_2   city_2     state_2 zip_2 country_2 url_2  \\\n",
       "0   108.561016  Jalan Karanggetas  Cirebon  Jawa Barat   NaN        ID   NaN   \n",
       "1   108.561016  Jalan Karanggetas  Cirebon  Jawa Barat   NaN        ID   NaN   \n",
       "2   108.561016  Jalan Karanggetas  Cirebon  Jawa Barat   NaN        ID   NaN   \n",
       "3   108.561016  Jalan Karanggetas  Cirebon  Jawa Barat   NaN        ID   NaN   \n",
       "4   108.561016  Jalan Karanggetas  Cirebon  Jawa Barat   NaN        ID   NaN   \n",
       "\n",
       "  phone_2            categories_2  match  \n",
       "0     NaN  Indonesian Restaurants   True  \n",
       "1     NaN  Indonesian Restaurants  False  \n",
       "2     NaN  Indonesian Restaurants  False  \n",
       "3     NaN  Indonesian Restaurants  False  \n",
       "4     NaN  Indonesian Restaurants  False  "
      ]
     },
     "execution_count": 10,
     "metadata": {},
     "output_type": "execute_result"
    }
   ],
   "source": [
    "pd.set_option('display.max_columns', None)\n",
    "df_pairs_custom.head()"
   ]
  },
  {
   "cell_type": "code",
   "execution_count": 11,
   "metadata": {},
   "outputs": [
    {
     "data": {
      "text/plain": [
       "(56250000, 25)"
      ]
     },
     "execution_count": 11,
     "metadata": {},
     "output_type": "execute_result"
    }
   ],
   "source": [
    "df_pairs_custom.shape"
   ]
  }
 ],
 "metadata": {
  "interpreter": {
   "hash": "3abc7ea86c1ba1384b4878b98af82991463d4da0cba7b7e72c3eaf31f3854092"
  },
  "kernelspec": {
   "display_name": "Python 3.10.4 ('.venv': venv)",
   "language": "python",
   "name": "python3"
  },
  "language_info": {
   "codemirror_mode": {
    "name": "ipython",
    "version": 3
   },
   "file_extension": ".py",
   "mimetype": "text/x-python",
   "name": "python",
   "nbconvert_exporter": "python",
   "pygments_lexer": "ipython3",
   "version": "3.10.4"
  },
  "orig_nbformat": 4
 },
 "nbformat": 4,
 "nbformat_minor": 2
}
