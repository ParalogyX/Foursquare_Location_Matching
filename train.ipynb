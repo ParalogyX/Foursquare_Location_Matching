{
 "cells": [
  {
   "cell_type": "code",
   "execution_count": 1,
   "metadata": {},
   "outputs": [],
   "source": [
    "import pandas as pd\n",
    "\n",
    "from sklearn.preprocessing import MinMaxScaler\n",
    "from sklearn.linear_model import LogisticRegression\n",
    "\n",
    "\n"
   ]
  },
  {
   "cell_type": "code",
   "execution_count": 2,
   "metadata": {},
   "outputs": [
    {
     "name": "stdout",
     "output_type": "stream",
     "text": [
      "(2277620, 33) (2277625, 33) (1138815, 33)\n"
     ]
    }
   ],
   "source": [
    "df_train = pd.read_csv('.\\\\data\\\\custom_prep\\\\train.csv')\n",
    "df_test = pd.read_csv('.\\\\data\\\\custom_prep\\\\test.csv')\n",
    "df_val = pd.read_csv('.\\\\data\\\\custom_prep\\\\val.csv')\n",
    "\n",
    "print(df_train.shape, df_test.shape, df_val.shape)"
   ]
  },
  {
   "cell_type": "code",
   "execution_count": 4,
   "metadata": {},
   "outputs": [],
   "source": [
    "# reshuffle train_set\n",
    "df_train = df_train.sample(frac=1)"
   ]
  },
  {
   "cell_type": "code",
   "execution_count": 14,
   "metadata": {},
   "outputs": [],
   "source": [
    "# features -> X\n",
    "# outcome -> y\n",
    "X_train = df_train.drop(['id_1', 'id_2', 'match'], axis=1)\n",
    "y_train = df_train['match']\n",
    "\n",
    "X_test = df_test.drop(['id_1', 'id_2', 'match'], axis=1)\n",
    "y_test = df_test['match']"
   ]
  }
 ],
 "metadata": {
  "kernelspec": {
   "display_name": "Python 3.10.4 ('.venv': venv)",
   "language": "python",
   "name": "python3"
  },
  "language_info": {
   "codemirror_mode": {
    "name": "ipython",
    "version": 3
   },
   "file_extension": ".py",
   "mimetype": "text/x-python",
   "name": "python",
   "nbconvert_exporter": "python",
   "pygments_lexer": "ipython3",
   "version": "3.10.4"
  },
  "orig_nbformat": 4,
  "vscode": {
   "interpreter": {
    "hash": "3abc7ea86c1ba1384b4878b98af82991463d4da0cba7b7e72c3eaf31f3854092"
   }
  }
 },
 "nbformat": 4,
 "nbformat_minor": 2
}
