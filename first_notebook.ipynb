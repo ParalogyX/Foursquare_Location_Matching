{
 "cells": [
  {
   "cell_type": "markdown",
   "metadata": {},
   "source": [
    "# Foursquare Location Matching\n",
    "\n",
    "The data presented here comprises over one-and-a-half million place entries for hundreds of thousands of commercial Points-of-Interest (POIs) around the globe. \n",
    "\n",
    "My task is to determine which place entries describe the same point-of-interest. Though the data entries may represent or resemble entries for real places, they may also contain artificial information or additional noise."
   ]
  },
  {
   "cell_type": "markdown",
   "metadata": {},
   "source": [
    "## Libraries installing and dataset downloading"
   ]
  },
  {
   "cell_type": "code",
   "execution_count": 1,
   "metadata": {},
   "outputs": [],
   "source": [
    "%%capture\n",
    "\n",
    "! pip install kaggle\n",
    "! pip install numpy\n",
    "! pip install pandas\n",
    "! pip install sklearn"
   ]
  },
  {
   "cell_type": "code",
   "execution_count": 2,
   "metadata": {},
   "outputs": [],
   "source": [
    "# Flag to force to reload dataset\n",
    "RELOAD = False"
   ]
  },
  {
   "cell_type": "code",
   "execution_count": 3,
   "metadata": {},
   "outputs": [
    {
     "name": "stdout",
     "output_type": "stream",
     "text": [
      "foursquare-location-matching.zip: Skipping, found more recently modified local copy (use --force to force download)\n"
     ]
    }
   ],
   "source": [
    "import os\n",
    "\n",
    "# import Kaggle API to load dataset\n",
    "import kaggle\n",
    "from kaggle.api.kaggle_api_extended import KaggleApi\n",
    "\n",
    "# initialize Kaggle API\n",
    "api = KaggleApi()\n",
    "api.authenticate()\n",
    "\n",
    "# download dataset from Kaggle to data folder\n",
    "data_path = 'data'\n",
    "api.competition_download_files('foursquare-location-matching', data_path, force=RELOAD, quiet=False)\n",
    "# save filename: !ATTENTION! : it may not be wroking if many files are in folders\n",
    "# then just name it manually \n",
    "dataset_file_name = os.listdir(data_path)[0]"
   ]
  },
  {
   "cell_type": "markdown",
   "metadata": {},
   "source": [
    "### Data description and loading\n",
    "\n",
    "The data presented here comprises over one-and-a-half million place entries for hundreds of thousands of commercial Points-of-Interest (POIs) around the globe. Your task is to determine which place entries describe the same point-of-interest. Though the data entries may represent or resemble entries for real places, they may also contain artificial information or additional noise.\n",
    "\n",
    "#### Training Data\n",
    "\n",
    "* *train.csv* - The training set, comprising eleven attribute fields for over one million place entries, together with:\n",
    "    * `id` - A unique identifier for each entry.\n",
    "    * `point_of_interest` - An identifier for the POI the entry represents. There may be one or many entries describing the same POI. Two entries \"match\" when they describe a common POI.\n",
    "* *pairs.csv* - A pregenerated set of pairs of place entries from train.csv designed to improve detection of matches. You may wish to generate additional pairs to improve your model's ability to discriminate POIs.\n",
    "    * `match` - Whether (`True` or `False`) the pair of entries describes a common POI.\n",
    "\n",
    "#### Example Test Data\n",
    "\n",
    "To help you author submission code, we include a few example instances selected from the test set. When you submit your notebook for scoring, this example data will be replaced by the actual test data. The actual test set has approximately 600,000 place entries with POIs that are distinct from the POIs in the training set.\n",
    "\n",
    "* *test.csv* - A set of place entries with their recorded attribute fields, similar to the training set.\n",
    "* *sample_submission.csv* - A sample submission file in the correct format.\n",
    "    * `id` - The unique identifier for a place entry, one for each entry in the test set.\n",
    "    * `matches` - A space delimited list of IDs for entries in the test set matching the given ID. Place entries always self-match."
   ]
  },
  {
   "cell_type": "code",
   "execution_count": 4,
   "metadata": {},
   "outputs": [],
   "source": [
    "# import libraries to work with paths and to read zipped file, as was downloaded from Kaggle\n",
    "from zipfile import ZipFile\n",
    "# import pandas for EDA\n",
    "import pandas as pd\n",
    "\n",
    "# Read train dataset (train.csv) to pandas DataFrame named df: it will be used for analysis\n",
    "df = pd.read_csv(ZipFile(os.path.join(data_path, dataset_file_name)).open('train.csv'))\n",
    "\n",
    "df_pairs = pd.read_csv(ZipFile(os.path.join(data_path, dataset_file_name)).open('pairs.csv'))\n",
    "\n",
    "# Read test dataset (test.csv), to pandas DataFrame named df_validation. It will be used only to generate final predictions, which will be submitted\n",
    "df_validation = pd.read_csv(ZipFile(os.path.join(data_path, dataset_file_name)).open('test.csv'))\n",
    "# finally, we will download example of submission (there are no correct predictions there, it is just an example)\n",
    "df_subm_example = pd.read_csv(ZipFile(os.path.join(data_path, dataset_file_name)).open('sample_submission.csv'))"
   ]
  },
  {
   "cell_type": "code",
   "execution_count": 5,
   "metadata": {},
   "outputs": [
    {
     "name": "stdout",
     "output_type": "stream",
     "text": [
      "Shape of df: (1138812, 13)\n",
      "Shape of df_pairs: (578907, 25)\n",
      "Shape of df_validation: (5, 12)\n",
      "Shape of df_subm_example: (5, 2)\n"
     ]
    }
   ],
   "source": [
    "# Check, that all dataframes are loaded and have correct shapes\n",
    "print(f'Shape of df: {str(df.shape)}')\n",
    "print(f'Shape of df_pairs: {str(df_pairs.shape)}')\n",
    "print(f'Shape of df_validation: {str(df_validation.shape)}')\n",
    "print(f'Shape of df_subm_example: {str(df_subm_example.shape)}')"
   ]
  },
  {
   "cell_type": "markdown",
   "metadata": {},
   "source": [
    "## Exploratory data analysis"
   ]
  },
  {
   "cell_type": "markdown",
   "metadata": {},
   "source": [
    "First, let's take a look on `df`, analyse it's structure and data"
   ]
  },
  {
   "cell_type": "code",
   "execution_count": 6,
   "metadata": {},
   "outputs": [
    {
     "data": {
      "text/html": [
       "<div>\n",
       "<style scoped>\n",
       "    .dataframe tbody tr th:only-of-type {\n",
       "        vertical-align: middle;\n",
       "    }\n",
       "\n",
       "    .dataframe tbody tr th {\n",
       "        vertical-align: top;\n",
       "    }\n",
       "\n",
       "    .dataframe thead th {\n",
       "        text-align: right;\n",
       "    }\n",
       "</style>\n",
       "<table border=\"1\" class=\"dataframe\">\n",
       "  <thead>\n",
       "    <tr style=\"text-align: right;\">\n",
       "      <th></th>\n",
       "      <th>id</th>\n",
       "      <th>name</th>\n",
       "      <th>latitude</th>\n",
       "      <th>longitude</th>\n",
       "      <th>address</th>\n",
       "      <th>city</th>\n",
       "      <th>state</th>\n",
       "      <th>zip</th>\n",
       "      <th>country</th>\n",
       "      <th>url</th>\n",
       "      <th>phone</th>\n",
       "      <th>categories</th>\n",
       "      <th>point_of_interest</th>\n",
       "    </tr>\n",
       "  </thead>\n",
       "  <tbody>\n",
       "    <tr>\n",
       "      <th>0</th>\n",
       "      <td>E_000001272c6c5d</td>\n",
       "      <td>Café Stad Oudenaarde</td>\n",
       "      <td>50.859975</td>\n",
       "      <td>3.634196</td>\n",
       "      <td>Abdijstraat</td>\n",
       "      <td>Nederename</td>\n",
       "      <td>Oost-Vlaanderen</td>\n",
       "      <td>9700</td>\n",
       "      <td>BE</td>\n",
       "      <td>NaN</td>\n",
       "      <td>NaN</td>\n",
       "      <td>Bars</td>\n",
       "      <td>P_677e840bb6fc7e</td>\n",
       "    </tr>\n",
       "    <tr>\n",
       "      <th>1</th>\n",
       "      <td>E_000002eae2a589</td>\n",
       "      <td>Carioca Manero</td>\n",
       "      <td>-22.907225</td>\n",
       "      <td>-43.178244</td>\n",
       "      <td>NaN</td>\n",
       "      <td>NaN</td>\n",
       "      <td>NaN</td>\n",
       "      <td>NaN</td>\n",
       "      <td>BR</td>\n",
       "      <td>NaN</td>\n",
       "      <td>NaN</td>\n",
       "      <td>Brazilian Restaurants</td>\n",
       "      <td>P_d82910d8382a83</td>\n",
       "    </tr>\n",
       "    <tr>\n",
       "      <th>2</th>\n",
       "      <td>E_000007f24ebc95</td>\n",
       "      <td>ร้านตัดผมการาเกด</td>\n",
       "      <td>13.780813</td>\n",
       "      <td>100.484900</td>\n",
       "      <td>NaN</td>\n",
       "      <td>NaN</td>\n",
       "      <td>NaN</td>\n",
       "      <td>NaN</td>\n",
       "      <td>TH</td>\n",
       "      <td>NaN</td>\n",
       "      <td>NaN</td>\n",
       "      <td>Salons / Barbershops</td>\n",
       "      <td>P_b1066599e78477</td>\n",
       "    </tr>\n",
       "    <tr>\n",
       "      <th>3</th>\n",
       "      <td>E_000008a8ba4f48</td>\n",
       "      <td>Turkcell</td>\n",
       "      <td>37.844510</td>\n",
       "      <td>27.844202</td>\n",
       "      <td>Adnan Menderes Bulvarı</td>\n",
       "      <td>NaN</td>\n",
       "      <td>NaN</td>\n",
       "      <td>NaN</td>\n",
       "      <td>TR</td>\n",
       "      <td>NaN</td>\n",
       "      <td>NaN</td>\n",
       "      <td>Mobile Phone Shops</td>\n",
       "      <td>P_b2ed86905a4cd3</td>\n",
       "    </tr>\n",
       "    <tr>\n",
       "      <th>4</th>\n",
       "      <td>E_00001d92066153</td>\n",
       "      <td>Restaurante Casa Cofiño</td>\n",
       "      <td>43.338196</td>\n",
       "      <td>-4.326821</td>\n",
       "      <td>NaN</td>\n",
       "      <td>Caviedes</td>\n",
       "      <td>Cantabria</td>\n",
       "      <td>NaN</td>\n",
       "      <td>ES</td>\n",
       "      <td>NaN</td>\n",
       "      <td>NaN</td>\n",
       "      <td>Spanish Restaurants</td>\n",
       "      <td>P_809a884d4407fb</td>\n",
       "    </tr>\n",
       "  </tbody>\n",
       "</table>\n",
       "</div>"
      ],
      "text/plain": [
       "                 id                     name   latitude   longitude  \\\n",
       "0  E_000001272c6c5d     Café Stad Oudenaarde  50.859975    3.634196   \n",
       "1  E_000002eae2a589           Carioca Manero -22.907225  -43.178244   \n",
       "2  E_000007f24ebc95         ร้านตัดผมการาเกด  13.780813  100.484900   \n",
       "3  E_000008a8ba4f48                 Turkcell  37.844510   27.844202   \n",
       "4  E_00001d92066153  Restaurante Casa Cofiño  43.338196   -4.326821   \n",
       "\n",
       "                  address        city            state   zip country  url  \\\n",
       "0             Abdijstraat  Nederename  Oost-Vlaanderen  9700      BE  NaN   \n",
       "1                     NaN         NaN              NaN   NaN      BR  NaN   \n",
       "2                     NaN         NaN              NaN   NaN      TH  NaN   \n",
       "3  Adnan Menderes Bulvarı         NaN              NaN   NaN      TR  NaN   \n",
       "4                     NaN    Caviedes        Cantabria   NaN      ES  NaN   \n",
       "\n",
       "  phone             categories point_of_interest  \n",
       "0   NaN                   Bars  P_677e840bb6fc7e  \n",
       "1   NaN  Brazilian Restaurants  P_d82910d8382a83  \n",
       "2   NaN   Salons / Barbershops  P_b1066599e78477  \n",
       "3   NaN     Mobile Phone Shops  P_b2ed86905a4cd3  \n",
       "4   NaN    Spanish Restaurants  P_809a884d4407fb  "
      ]
     },
     "execution_count": 6,
     "metadata": {},
     "output_type": "execute_result"
    }
   ],
   "source": [
    "df.head()"
   ]
  },
  {
   "cell_type": "code",
   "execution_count": 7,
   "metadata": {},
   "outputs": [
    {
     "name": "stdout",
     "output_type": "stream",
     "text": [
      "Number of records in df: 1138812\n",
      "Number of columns in df: 13\n"
     ]
    }
   ],
   "source": [
    "print(f'Number of records in df: {df.shape[0]}')\n",
    "print(f'Number of columns in df: {df.shape[1]}')"
   ]
  },
  {
   "cell_type": "code",
   "execution_count": 8,
   "metadata": {},
   "outputs": [
    {
     "name": "stdout",
     "output_type": "stream",
     "text": [
      "Names of columns in df: ['id', 'name', 'latitude', 'longitude', 'address', 'city', 'state', 'zip', 'country', 'url', 'phone', 'categories', 'point_of_interest']\n"
     ]
    }
   ],
   "source": [
    "print(f'Names of columns in df: {list(df.columns)}')"
   ]
  },
  {
   "cell_type": "markdown",
   "metadata": {},
   "source": [
    "DataFrame `df` contains entries of POIs. \n",
    "Let's go through the columns to describe them\n",
    "\n",
    "First, let's create helper function `col_describe` to use it for different columns"
   ]
  },
  {
   "cell_type": "code",
   "execution_count": 9,
   "metadata": {},
   "outputs": [],
   "source": [
    "def col_describe(column_name, df=df):\n",
    "    t = df[column_name].dtype\n",
    "    print(f\"Type of `{column_name}` column in `df` is: {t}\")\n",
    "    if (t == object):\n",
    "        print(\"Object in pandas means string\")\n",
    "    print(f\"Number of NaNs in `{column_name}` column: {df.isna()[column_name].sum()}\")\n",
    "    n = len(df[column_name])\n",
    "    nu = df[column_name].nunique()\n",
    "    print(f\"Total amount of records (column `{column_name}`) is {n} and number of unique values is {nu}\")\n",
    "    print(f\"{nu / n * 100}% of the values in `{column_name}` column are unique\")"
   ]
  },
  {
   "cell_type": "markdown",
   "metadata": {},
   "source": [
    "\n",
    "Column `id` is a unique identifier of the entry"
   ]
  },
  {
   "cell_type": "code",
   "execution_count": 10,
   "metadata": {},
   "outputs": [
    {
     "name": "stdout",
     "output_type": "stream",
     "text": [
      "Type of `id` column in `df` is: object\n",
      "Object in pandas means string\n",
      "Number of NaNs in `id` column: 0\n",
      "Total amount of records (column `id`) is 1138812 and number of unique values is 1138812\n",
      "100.0% of the values in `id` column are unique\n"
     ]
    }
   ],
   "source": [
    "col_describe('id')"
   ]
  },
  {
   "cell_type": "markdown",
   "metadata": {},
   "source": [
    "Column `name` is the name of POI entry"
   ]
  },
  {
   "cell_type": "code",
   "execution_count": 18,
   "metadata": {},
   "outputs": [
    {
     "name": "stdout",
     "output_type": "stream",
     "text": [
      "Type of `name` column in `df` is: object\n",
      "Object in pandas means string\n",
      "Number of NaNs in `name` column: 1\n",
      "Total amount of records (column `name`) is 1138812 and number of unique values is 842086\n",
      "73.9442506752651% of the values in `name` column are unique\n"
     ]
    }
   ],
   "source": [
    "col_describe('name')"
   ]
  },
  {
   "cell_type": "markdown",
   "metadata": {},
   "source": [
    "Columns `latitude` and `longitude` are geographical coordinates of the reported location"
   ]
  },
  {
   "cell_type": "code",
   "execution_count": 20,
   "metadata": {},
   "outputs": [
    {
     "name": "stdout",
     "output_type": "stream",
     "text": [
      "Type of `latitude` column in `df` is: float64\n",
      "Number of NaNs in `latitude` column: 0\n",
      "Total amount of records (column `latitude`) is 1138812 and number of unique values is 1121701\n",
      "98.49746929256102% of the values in `latitude` column are unique\n",
      "\n",
      "\n",
      "Type of `longitude` column in `df` is: float64\n",
      "Number of NaNs in `longitude` column: 0\n",
      "Total amount of records (column `longitude`) is 1138812 and number of unique values is 1080273\n",
      "94.85964320713164% of the values in `longitude` column are unique\n"
     ]
    }
   ],
   "source": [
    "col_describe('latitude')\n",
    "print('\\n')\n",
    "col_describe('longitude')"
   ]
  },
  {
   "cell_type": "markdown",
   "metadata": {},
   "source": [
    "Columns `address`, `city`, `state`, `zip`, `country` are describing address of the reported location"
   ]
  },
  {
   "cell_type": "code",
   "execution_count": 21,
   "metadata": {},
   "outputs": [
    {
     "name": "stdout",
     "output_type": "stream",
     "text": [
      "Type of `address` column in `df` is: object\n",
      "Object in pandas means string\n",
      "Number of NaNs in `address` column: 396621\n",
      "Total amount of records (column `address`) is 1138812 and number of unique values is 558154\n",
      "49.01195280696024% of the values in `address` column are unique\n",
      "\n",
      "\n",
      "Type of `city` column in `df` is: object\n",
      "Object in pandas means string\n",
      "Number of NaNs in `city` column: 299189\n",
      "Total amount of records (column `city`) is 1138812 and number of unique values is 68105\n",
      "5.980354966403585% of the values in `city` column are unique\n",
      "\n",
      "\n",
      "Type of `state` column in `df` is: object\n",
      "Object in pandas means string\n",
      "Number of NaNs in `state` column: 420586\n",
      "Total amount of records (column `state`) is 1138812 and number of unique values is 17596\n",
      "1.5451189485182804% of the values in `state` column are unique\n",
      "\n",
      "\n",
      "Type of `zip` column in `df` is: object\n",
      "Object in pandas means string\n",
      "Number of NaNs in `zip` column: 595426\n",
      "Total amount of records (column `zip`) is 1138812 and number of unique values is 93329\n",
      "8.195294745752593% of the values in `zip` column are unique\n",
      "\n",
      "\n",
      "Type of `country` column in `df` is: object\n",
      "Object in pandas means string\n",
      "Number of NaNs in `country` column: 11\n",
      "Total amount of records (column `country`) is 1138812 and number of unique values is 221\n",
      "0.019406188203145033% of the values in `country` column are unique\n"
     ]
    }
   ],
   "source": [
    "col_describe('address')\n",
    "print('\\n')\n",
    "col_describe('city')\n",
    "print('\\n')\n",
    "col_describe('state')\n",
    "print('\\n')\n",
    "col_describe('zip')\n",
    "print('\\n')\n",
    "col_describe('country')"
   ]
  },
  {
   "cell_type": "markdown",
   "metadata": {},
   "source": [
    "Columns `url`, `phone` of the POI"
   ]
  },
  {
   "cell_type": "code",
   "execution_count": 22,
   "metadata": {},
   "outputs": [
    {
     "name": "stdout",
     "output_type": "stream",
     "text": [
      "Type of `url` column in `df` is: object\n",
      "Object in pandas means string\n",
      "Number of NaNs in `url` column: 871088\n",
      "Total amount of records (column `url`) is 1138812 and number of unique values is 171222\n",
      "15.035141884700899% of the values in `url` column are unique\n",
      "\n",
      "\n",
      "Type of `phone` column in `df` is: object\n",
      "Object in pandas means string\n",
      "Number of NaNs in `phone` column: 795957\n",
      "Total amount of records (column `phone`) is 1138812 and number of unique values is 293454\n",
      "25.768432366360734% of the values in `phone` column are unique\n"
     ]
    }
   ],
   "source": [
    "col_describe('url')\n",
    "print('\\n')\n",
    "col_describe('phone')"
   ]
  },
  {
   "cell_type": "markdown",
   "metadata": {},
   "source": [
    "Column `point_of_interest`: an identifier for the POI the entry represents. There may be one or many entries describing the same POI. Two entries \"match\" when they describe a common POI."
   ]
  },
  {
   "cell_type": "code",
   "execution_count": 23,
   "metadata": {},
   "outputs": [
    {
     "name": "stdout",
     "output_type": "stream",
     "text": [
      "Type of `point_of_interest` column in `df` is: object\n",
      "Object in pandas means string\n",
      "Number of NaNs in `point_of_interest` column: 0\n",
      "Total amount of records (column `point_of_interest`) is 1138812 and number of unique values is 739972\n",
      "64.97753799573591% of the values in `point_of_interest` column are unique\n"
     ]
    }
   ],
   "source": [
    "col_describe('point_of_interest')"
   ]
  }
 ],
 "metadata": {
  "interpreter": {
   "hash": "3abc7ea86c1ba1384b4878b98af82991463d4da0cba7b7e72c3eaf31f3854092"
  },
  "kernelspec": {
   "display_name": "Python 3.10.4 ('.venv': venv)",
   "language": "python",
   "name": "python3"
  },
  "language_info": {
   "codemirror_mode": {
    "name": "ipython",
    "version": 3
   },
   "file_extension": ".py",
   "mimetype": "text/x-python",
   "name": "python",
   "nbconvert_exporter": "python",
   "pygments_lexer": "ipython3",
   "version": "3.10.4"
  },
  "orig_nbformat": 4
 },
 "nbformat": 4,
 "nbformat_minor": 2
}
